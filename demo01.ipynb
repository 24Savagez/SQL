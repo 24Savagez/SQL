{
    "metadata": {
        "kernelspec": {
            "name": "SQL",
            "display_name": "SQL",
            "language": "sql"
        },
        "language_info": {
            "name": "sql",
            "version": ""
        }
    },
    "nbformat_minor": 2,
    "nbformat": 4,
    "cells": [
        {
            "cell_type": "code",
            "source": [
                "select top 10 * from movie_gross"
            ],
            "metadata": {
                "azdata_cell_guid": "31a53b1b-64a9-42d9-a30b-314a8a6f2d7a"
            },
            "outputs": [
                {
                    "output_type": "display_data",
                    "data": {
                        "text/html": "(10 rows affected)"
                    },
                    "metadata": {}
                },
                {
                    "output_type": "display_data",
                    "data": {
                        "text/html": "Total execution time: 00:00:00.028"
                    },
                    "metadata": {}
                },
                {
                    "output_type": "execute_result",
                    "metadata": {},
                    "execution_count": 2,
                    "data": {
                        "application/vnd.dataresource+json": {
                            "schema": {
                                "fields": [
                                    {
                                        "name": "movie_title"
                                    },
                                    {
                                        "name": "release_date"
                                    },
                                    {
                                        "name": "genre"
                                    },
                                    {
                                        "name": "mpaa_rating"
                                    },
                                    {
                                        "name": "total_gross"
                                    },
                                    {
                                        "name": "inflation_adjusted_gross"
                                    }
                                ]
                            },
                            "data": [
                                {
                                    "0": "Snow White and the Seven Dwarfs",
                                    "1": "1937-12-21",
                                    "2": "Musical",
                                    "3": "G",
                                    "4": "184925485",
                                    "5": "5228953251"
                                },
                                {
                                    "0": "Pinocchio",
                                    "1": "1940-02-09",
                                    "2": "Adventure",
                                    "3": "G",
                                    "4": "84300000",
                                    "5": "2188229052"
                                },
                                {
                                    "0": "Fantasia",
                                    "1": "1940-11-13",
                                    "2": "Musical",
                                    "3": "G",
                                    "4": "83320000",
                                    "5": "2187090808"
                                },
                                {
                                    "0": "Song of the South",
                                    "1": "1946-11-12",
                                    "2": "Adventure",
                                    "3": "G",
                                    "4": "65000000",
                                    "5": "1078510579"
                                },
                                {
                                    "0": "Cinderella",
                                    "1": "1950-02-15",
                                    "2": "Drama",
                                    "3": "G",
                                    "4": "85000000",
                                    "5": "920608730"
                                },
                                {
                                    "0": "20,000 Leagues Under the Sea",
                                    "1": "1954-12-23",
                                    "2": "Adventure",
                                    "3": "NULL",
                                    "4": "28200000",
                                    "5": "528279994"
                                },
                                {
                                    "0": "Lady and the Tramp",
                                    "1": "1955-06-22",
                                    "2": "Drama",
                                    "3": "G",
                                    "4": "93600000",
                                    "5": "1236035515"
                                },
                                {
                                    "0": "Sleeping Beauty",
                                    "1": "1959-01-29",
                                    "2": "Drama",
                                    "3": "NULL",
                                    "4": "9464608",
                                    "5": "21505832"
                                },
                                {
                                    "0": "101 Dalmatians",
                                    "1": "1961-01-25",
                                    "2": "Comedy",
                                    "3": "G",
                                    "4": "153000000",
                                    "5": "1362870985"
                                },
                                {
                                    "0": "The Absent Minded Professor",
                                    "1": "1961-03-16",
                                    "2": "Comedy",
                                    "3": "NULL",
                                    "4": "25381407",
                                    "5": "310094574"
                                }
                            ]
                        },
                        "text/html": [
                            "<table>",
                            "<tr><th>movie_title</th><th>release_date</th><th>genre</th><th>mpaa_rating</th><th>total_gross</th><th>inflation_adjusted_gross</th></tr>",
                            "<tr><td>Snow White and the Seven Dwarfs</td><td>1937-12-21</td><td>Musical</td><td>G</td><td>184925485</td><td>5228953251</td></tr>",
                            "<tr><td>Pinocchio</td><td>1940-02-09</td><td>Adventure</td><td>G</td><td>84300000</td><td>2188229052</td></tr>",
                            "<tr><td>Fantasia</td><td>1940-11-13</td><td>Musical</td><td>G</td><td>83320000</td><td>2187090808</td></tr>",
                            "<tr><td>Song of the South</td><td>1946-11-12</td><td>Adventure</td><td>G</td><td>65000000</td><td>1078510579</td></tr>",
                            "<tr><td>Cinderella</td><td>1950-02-15</td><td>Drama</td><td>G</td><td>85000000</td><td>920608730</td></tr>",
                            "<tr><td>20,000 Leagues Under the Sea</td><td>1954-12-23</td><td>Adventure</td><td>NULL</td><td>28200000</td><td>528279994</td></tr>",
                            "<tr><td>Lady and the Tramp</td><td>1955-06-22</td><td>Drama</td><td>G</td><td>93600000</td><td>1236035515</td></tr>",
                            "<tr><td>Sleeping Beauty</td><td>1959-01-29</td><td>Drama</td><td>NULL</td><td>9464608</td><td>21505832</td></tr>",
                            "<tr><td>101 Dalmatians</td><td>1961-01-25</td><td>Comedy</td><td>G</td><td>153000000</td><td>1362870985</td></tr>",
                            "<tr><td>The Absent Minded Professor</td><td>1961-03-16</td><td>Comedy</td><td>NULL</td><td>25381407</td><td>310094574</td></tr>",
                            "</table>"
                        ]
                    }
                }
            ],
            "execution_count": 2
        },
        {
            "cell_type": "code",
            "source": [
                "select genre, sum(total_gross) total from movie_gross GROUP by genre"
            ],
            "metadata": {
                "azdata_cell_guid": "fdf8fc72-10f6-47ae-ae54-5f3aa22f6c8a"
            },
            "outputs": [
{
    "output_type": "display_data",
    "data": {
        "text/html": "(13 rows affected)"
    },
    "metadata": {}
}, {
    "output_type": "display_data",
    "data": {
        "text/html": "Total execution time: 00:00:00.014"
    },
    "metadata": {}
}, {
    "output_type": "execute_result",
    "metadata": {},
    "execution_count": 3,
    "data": {
        "application/vnd.dataresource+json": {
            "schema": {
                "fields": [
                    {
                        "name": "genre"
                    },
                    {
                        "name": "total"
                    }
                ]
            },
            "data": [
                {
                    "0": "NULL",
                    "1": "118047013"
                },
                {
                    "0": "Action",
                    "1": "4184563282"
                },
                {
                    "0": "Adventure",
                    "1": "16389069453"
                },
                {
                    "0": "Black Comedy",
                    "1": "97543212"
                },
                {
                    "0": "Comedy",
                    "1": "8119619678"
                },
                {
                    "0": "Concert/Performance",
                    "1": "103456466"
                },
                {
                    "0": "Documentary",
                    "1": "180685619"
                },
                {
                    "0": "Drama",
                    "1": "4106972970"
                },
                {
                    "0": "Horror",
                    "1": "87068872"
                },
                {
                    "0": "Musical",
                    "1": "1157284155"
                },
                {
                    "0": "Romantic Comedy",
                    "1": "1152206855"
                },
                {
                    "0": "Thriller/Suspense",
                    "1": "1406806519"
                },
                {
                    "0": "Western",
                    "1": "359011459"
                }
            ]
        },
        "text/html": [
            "<table>",
            "<tr><th>genre</th><th>total</th></tr>",
            "<tr><td>NULL</td><td>118047013</td></tr>",
            "<tr><td>Action</td><td>4184563282</td></tr>",
            "<tr><td>Adventure</td><td>16389069453</td></tr>",
            "<tr><td>Black Comedy</td><td>97543212</td></tr>",
            "<tr><td>Comedy</td><td>8119619678</td></tr>",
            "<tr><td>Concert/Performance</td><td>103456466</td></tr>",
            "<tr><td>Documentary</td><td>180685619</td></tr>",
            "<tr><td>Drama</td><td>4106972970</td></tr>",
            "<tr><td>Horror</td><td>87068872</td></tr>",
            "<tr><td>Musical</td><td>1157284155</td></tr>",
            "<tr><td>Romantic Comedy</td><td>1152206855</td></tr>",
            "<tr><td>Thriller/Suspense</td><td>1406806519</td></tr>",
            "<tr><td>Western</td><td>359011459</td></tr>",
            "</table>"
        ]
    }
}
],
            "execution_count": null
        }
    ]
}